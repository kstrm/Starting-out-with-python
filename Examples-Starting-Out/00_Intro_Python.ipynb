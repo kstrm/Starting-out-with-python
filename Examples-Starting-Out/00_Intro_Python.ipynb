{
 "cells": [
  {
   "cell_type": "markdown",
   "metadata": {},
   "source": [
    "# Starting out with scientific Python and notebooks\n"
   ]
  },
  {
   "cell_type": "markdown",
   "metadata": {
    "id": "RMV-Lp3vOpo4"
   },
   "source": [
    "## Cell types\n",
    "\n",
    "There are two basic cell types in notebooks\n",
    "1. Markdown cells, and\n",
    "2. Code cells\n",
    "\n",
    "### Markdown Cells \n",
    "\n",
    "- Good for writting. Can use standard Markdown formatting (Googgle if you don't know how to use Markdown)\n",
    "- Can use LaTeX formatting for equation (the notebook uses MathJax)\n",
    "\n",
    "For example. Here is an equation inline: $F = ma$. And, here's an equation in display form:\n",
    "\n",
    "$$ E = \\frac{V^2}{2g}+y $$\n",
    "\n",
    "You can also use standard LaTex \"equation environment\" in:\n",
    "\n",
    "\\begin{equation}\n",
    "\\frac{\\partial (AC)}{\\partial t}+\\frac{\\partial (AUC)}{\\partial x}=\\frac{\\partial}{\\partial x}\\left(AD\\frac{\\partial C}{\\partial x}\\right) +  b \\left(E_b - D_b \\right)\n",
    "\\end{equation}\n",
    "\n",
    "Equation reference is not yet available"
   ]
  },
  {
   "cell_type": "markdown",
   "metadata": {
    "id": "wvZ3AvCmOpo4"
   },
   "source": [
    "### Code Cells\n",
    "\n",
    "\"Code\" cell block are where the computations are actually performed. Before we get going with code, we'll need to load a few libraries."
   ]
  },
  {
   "cell_type": "markdown",
   "metadata": {
    "id": "UyZgszEC7LT-"
   },
   "source": [
    "## Loads: different ways to get access to what you need\n",
    "\n",
    "try typing 5+5 and executing the cell, then type \"pi\" or \"sin(pi)\" and execute"
   ]
  },
  {
   "cell_type": "code",
   "execution_count": null,
   "metadata": {
    "id": "W7VyUCXx7UrD"
   },
   "outputs": [],
   "source": []
  },
  {
   "cell_type": "code",
   "execution_count": null,
   "metadata": {},
   "outputs": [],
   "source": [
    "pi"
   ]
  },
  {
   "cell_type": "code",
   "execution_count": null,
   "metadata": {},
   "outputs": [],
   "source": []
  },
  {
   "cell_type": "markdown",
   "metadata": {},
   "source": [
    "As you can see, ```pi``` or ```sin``` are not available for use in standard base Python. That is, ```pi``` and ```sin``` don't necessarily mean anything on their own. They are just letters that you might use to define a variable.  To use them as mathematical operators you need to import libraries where these are specifically defined operations and values. The most common library for most scientific calculations is called [NumPy](https://numpy.org/). We need to load this to get access to common mathematical operations and other backbone components of scientific computing. \n",
    "\n",
    "there are different ways to load NumPy and other libraries to gain access. Here are some examples\n",
    "\n",
    "### Method 1a"
   ]
  },
  {
   "cell_type": "code",
   "execution_count": null,
   "metadata": {},
   "outputs": [],
   "source": [
    "import numpy as np\n",
    "\n",
    "# now we can try taking the sin of pi by using np to refer to the numpy library and .pi and .sin as \n",
    "# the attributes of numpy called pi and sin\n",
    "\n",
    "np.sin(np.pi)"
   ]
  },
  {
   "cell_type": "markdown",
   "metadata": {},
   "source": [
    "### Method 1b\n",
    "Here we load all of numpy as np, but then add some stuff directly so that we don't need the np.*"
   ]
  },
  {
   "cell_type": "code",
   "execution_count": null,
   "metadata": {
    "id": "yhSiWvla7Qpg"
   },
   "outputs": [],
   "source": [
    "import numpy as np\n",
    "from numpy import pi, sin\n",
    "\n",
    "# type just sin(pi)"
   ]
  },
  {
   "cell_type": "markdown",
   "metadata": {},
   "source": [
    "### Method 2 (the WRONG but easier way)\n",
    "This method is good for starting out and most of your work in this class. However, its good to move away from it in time. You can use ```%pylab``` to imports a bunch of stuff from numpy and matplotlib and make it easily accessible."
   ]
  },
  {
   "cell_type": "code",
   "execution_count": null,
   "metadata": {
    "id": "M-0Q1L7dOpo5"
   },
   "outputs": [],
   "source": [
    "# the bulk bad form to do loads\n",
    "%pylab inline"
   ]
  },
  {
   "cell_type": "markdown",
   "metadata": {},
   "source": [
    "### Other loads"
   ]
  },
  {
   "cell_type": "code",
   "execution_count": null,
   "metadata": {},
   "outputs": [],
   "source": [
    "# and for interactive plotting we use the following:\n",
    "%matplotlib widget  # Will not work with Colab\n",
    "\n",
    "# %config InlineBackend.figure_format='retina' # uncomment if you have a retina display... comment out when printing to pdf\n",
    "# from scipy.optimize import fsolve # will need for solver"
   ]
  },
  {
   "cell_type": "markdown",
   "metadata": {},
   "source": [
    "## Variables and foundational types of data\n",
    "\n",
    "### Variables\n",
    "\n",
    "Variables are short hand names for different types of data that we can refer to"
   ]
  },
  {
   "cell_type": "code",
   "execution_count": null,
   "metadata": {},
   "outputs": [],
   "source": [
    "var = 8"
   ]
  },
  {
   "cell_type": "markdown",
   "metadata": {},
   "source": [
    "### Strings"
   ]
  },
  {
   "cell_type": "code",
   "execution_count": null,
   "metadata": {},
   "outputs": [],
   "source": [
    "var = 'Hello world'"
   ]
  },
  {
   "cell_type": "markdown",
   "metadata": {},
   "source": [
    "### Floats and integers"
   ]
  },
  {
   "cell_type": "markdown",
   "metadata": {},
   "source": [
    "what if ```var = 1```?"
   ]
  },
  {
   "cell_type": "code",
   "execution_count": null,
   "metadata": {},
   "outputs": [],
   "source": []
  },
  {
   "cell_type": "markdown",
   "metadata": {},
   "source": [
    "Now try ```var = 1.5```"
   ]
  },
  {
   "cell_type": "code",
   "execution_count": null,
   "metadata": {},
   "outputs": [],
   "source": []
  },
  {
   "cell_type": "markdown",
   "metadata": {},
   "source": [
    "What happens when ```var = 1.```?"
   ]
  },
  {
   "cell_type": "code",
   "execution_count": null,
   "metadata": {},
   "outputs": [],
   "source": []
  },
  {
   "cell_type": "markdown",
   "metadata": {},
   "source": [
    "## Commenting\n",
    "\n",
    "Notice what the ```#``` mark does in a code block"
   ]
  },
  {
   "cell_type": "code",
   "execution_count": null,
   "metadata": {},
   "outputs": [],
   "source": [
    "2*var"
   ]
  },
  {
   "cell_type": "code",
   "execution_count": null,
   "metadata": {},
   "outputs": [],
   "source": [
    "# 2*var"
   ]
  },
  {
   "cell_type": "markdown",
   "metadata": {},
   "source": [
    "You can toggle a line of code off any on by placing or removing ```#``` in front of the code. You can also use hotkeys to comment/uncomment. On mac, the hotkey is ```command+/```"
   ]
  },
  {
   "cell_type": "markdown",
   "metadata": {
    "id": "hl2EHHtiOpo8"
   },
   "source": [
    "## Arrays\n",
    "\n",
    "Arrays are very generic containers for numbers and strings. You can think of an array as a row or column from a spreadsheet (1D), the rows and columns of a spreadsheet (2D), or any number of multidimentional object with arrays within arrays within arrays. Arrays provide the backbone for most scientific operations. Below we will work with a basic one dimensional arrays. For more on Numpy arrays see - [A Visual Intro to NumPy and Data Representation](https://jalammar.github.io/visual-numpy/) "
   ]
  },
  {
   "cell_type": "code",
   "execution_count": null,
   "metadata": {
    "id": "qouJKTu8Opo8"
   },
   "outputs": [],
   "source": [
    "# 100 pt array that ranges from 0 to 10*pi in even increments (float)\n",
    "\n",
    "# 100 pt array of integers ranging from 0 to 100-1\n"
   ]
  },
  {
   "cell_type": "code",
   "execution_count": null,
   "metadata": {
    "id": "9GHwf_9vOpo-"
   },
   "outputs": [],
   "source": [
    "# returns the x values from spots 0, 1, 2 in the array\n",
    "x[]"
   ]
  },
  {
   "cell_type": "code",
   "execution_count": null,
   "metadata": {
    "id": "RwAnwwnPOppA"
   },
   "outputs": [],
   "source": [
    "# returns the xint values from spots 0, 1, 2 in the array\n",
    "xint[]"
   ]
  },
  {
   "cell_type": "code",
   "execution_count": null,
   "metadata": {
    "id": "8ppiqvY1OppC"
   },
   "outputs": [],
   "source": [
    "# create y1 as being the sin of x\n",
    "\n",
    "# create y2 as y1 * xint\n",
    "\n",
    "# create y3 as x^2\n"
   ]
  },
  {
   "cell_type": "markdown",
   "metadata": {
    "id": "HJaBYF0wOppE"
   },
   "source": [
    "## Plotting"
   ]
  },
  {
   "cell_type": "code",
   "execution_count": null,
   "metadata": {
    "id": "zguTk7f3OppE"
   },
   "outputs": [],
   "source": [
    "# plot y1 vs x\n",
    "\n",
    "fig,ax = plt.subplots()\n",
    "ax.plot()\n",
    "ax.set_xlabel('x')\n",
    "ax.set_ylabel('y');"
   ]
  },
  {
   "cell_type": "code",
   "execution_count": null,
   "metadata": {
    "id": "b_Cjxqb4OppH"
   },
   "outputs": [],
   "source": [
    "# plot y2 vs x\n"
   ]
  },
  {
   "cell_type": "code",
   "execution_count": null,
   "metadata": {
    "id": "OYUNI8hnOppJ"
   },
   "outputs": [],
   "source": [
    "# plot several lines on the same figure\n",
    "\n",
    "# plot x vs y3, x vs 2*y3, x vs -2*y3\n",
    "\n",
    "fig,ax = plt.subplots()\n",
    "ax.plot(x, y3, label = '$x^2$')\n",
    "\n",
    "ax.set_xlabel('$x$')\n",
    "ax.set_ylabel('$y$')\n",
    "legend();"
   ]
  },
  {
   "cell_type": "markdown",
   "metadata": {
    "id": "TO2upjrNOppL"
   },
   "source": [
    "## Define a function"
   ]
  },
  {
   "cell_type": "markdown",
   "metadata": {
    "id": "8Hc0wTXZOppL"
   },
   "source": [
    "Function are nice ways to make \n",
    "\n",
    "Let's define a very simple function for calculating the volume flow rate of water in a river. The volume flow rate tells you the volume of water flowing past a particular point in the river every second; e.g., 500 cubic feet per second. We typically refer to this important quantity with the variable, $Q$. One way in which we can define $Q$ is as the product of the average velocity of water in the river (how fast it's moving) multiplied by the cross sectional flow area (the area of water made by a 2D plane that intersection the bottom of the river at a perpendicular angle through which the water is flowing):\n",
    "\n",
    "$$\\text{Discharge = Velocity}~ x~ \\text{Area} $$ \n",
    "\n",
    "or\n",
    "\n",
    "$$ Q = VA$$\n",
    "\n",
    "Now let's define a function that will give us $Q$ if we give it $A$ and $V$."
   ]
  },
  {
   "cell_type": "code",
   "execution_count": null,
   "metadata": {
    "id": "bZjfsVeoOppL"
   },
   "outputs": [],
   "source": [
    "def discharge(A,V):\n",
    "    return\n",
    "\n",
    "# now use the function\n",
    "\n",
    "\n",
    "\n",
    "print('Discharge of the river [cubic feet per sec]=',discharge())"
   ]
  },
  {
   "cell_type": "markdown",
   "metadata": {
    "id": "TavkxzldOppN"
   },
   "source": [
    "## Solving an implicit equation: Tthe Colebrook Equation.\n",
    "\n",
    "We will use a defined function + ```fslove``` to solve the Colebrook equation:\n",
    "\n",
    "$$ \\frac{1}{\\sqrt{f}}=-0.86\\ln\\left(\\frac{e}{3.7D}+\\frac{2.51}{R_e\\sqrt{f}}\\right) $$\n",
    "\n",
    "Goal: sovle for $f$ given $e$, $D$, and $R_e$\n",
    "\n",
    "We will use the ```fsolve``` function in scipy: ```f_solution = fsolve(defname,guess, args=(list))```\n",
    "\n",
    "First, let's define the equation and set it up so that the function should return ```0``` if we get the right depth"
   ]
  },
  {
   "cell_type": "code",
   "execution_count": null,
   "metadata": {
    "id": "rCxYF7NnOppN"
   },
   "outputs": [],
   "source": [
    "def colebrook(f,e,D,Re):\n",
    "    return (1/sqrt(f))+0.86*log((e/(3.7*D))+(2.51/(Re*sqrt(f))))"
   ]
  },
  {
   "cell_type": "code",
   "execution_count": null,
   "metadata": {
    "id": "5XO7s0mQOppQ"
   },
   "outputs": [],
   "source": [
    "# Pipe and flow conditions (inputs)\n",
    "\n",
    "e = 0.00015\n",
    "D = 10/100\n",
    "Re = 10**5\n",
    "\n",
    "# need a guess value for f\n",
    "\n",
    "fguess = 0.015\n",
    "\n",
    "# now use fsolve to find the f \n",
    "\n",
    "f_solution = fsolve(colebrook,fguess, args=(e,D,Re))\n",
    "\n",
    "# print the solution\n",
    "\n",
    "print('The Darcy Weisbach friction factor f is =', f_solution)\n",
    "print('The Darcy Weisbach friction factor f is =', around(f_solution,decimals=3))"
   ]
  }
 ],
 "metadata": {
  "anaconda-cloud": {},
  "colab": {
   "name": "00_Intro_Python_JupyterNotebooks.ipynb",
   "provenance": []
  },
  "kernelspec": {
   "display_name": "Python 3 (ipykernel)",
   "language": "python",
   "name": "python3"
  },
  "language_info": {
   "codemirror_mode": {
    "name": "ipython",
    "version": 3
   },
   "file_extension": ".py",
   "mimetype": "text/x-python",
   "name": "python",
   "nbconvert_exporter": "python",
   "pygments_lexer": "ipython3",
   "version": "3.8.13"
  }
 },
 "nbformat": 4,
 "nbformat_minor": 4
}
