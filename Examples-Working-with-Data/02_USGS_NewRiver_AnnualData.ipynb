{
 "cells": [
  {
   "cell_type": "markdown",
   "id": "9634fafc-afab-402b-8316-89b39c5cb375",
   "metadata": {},
   "source": [
    "# Working with annual USGS data\n",
    "\n",
    "In this exercise we will pull in annual peak flow data from the USGS gage [03171000 NEW RIVER AT RADFORD, VA](https://waterdata.usgs.gov/nwis/uv?site_no=03171000) to explore and analyze. Note, \"annual\" is based on the water year (October 1 - September 30) and not the calender year (January 1 - December 31)."
   ]
  },
  {
   "cell_type": "markdown",
   "id": "882d8ba4-9d3c-42a1-b47d-1fe18f977b7f",
   "metadata": {},
   "source": [
    "## Load in the needed packages"
   ]
  },
  {
   "cell_type": "code",
   "execution_count": 1,
   "id": "0a6ad266-c2bd-4d0e-bd24-55927c9c50e9",
   "metadata": {},
   "outputs": [],
   "source": [
    "import numpy as np\n",
    "import pandas as pd\n",
    "from datetime import datetime\n",
    "\n",
    "# %matplotlib inline\n",
    "import matplotlib.pyplot as plt\n",
    "%matplotlib widget\n",
    "%config InlineBackend.figure_format='retina' # hig-res plots for a Retina display "
   ]
  },
  {
   "cell_type": "markdown",
   "id": "53a80bfd-f6af-4162-9411-7f620ef8cd2c",
   "metadata": {},
   "source": [
    "## Load, condition, and plot the data\n",
    "\n",
    "Let's load in the csv file we created into a Pandas dataframe that we will call ```Qp``` and display the dataframe"
   ]
  },
  {
   "cell_type": "code",
   "execution_count": 2,
   "id": "6dd6e513-73ba-4f26-bc20-8ca90b8de395",
   "metadata": {},
   "outputs": [
    {
     "data": {
      "text/html": [
       "<div>\n",
       "<style scoped>\n",
       "    .dataframe tbody tr th:only-of-type {\n",
       "        vertical-align: middle;\n",
       "    }\n",
       "\n",
       "    .dataframe tbody tr th {\n",
       "        vertical-align: top;\n",
       "    }\n",
       "\n",
       "    .dataframe thead th {\n",
       "        text-align: right;\n",
       "    }\n",
       "</style>\n",
       "<table border=\"1\" class=\"dataframe\">\n",
       "  <thead>\n",
       "    <tr style=\"text-align: right;\">\n",
       "      <th></th>\n",
       "      <th>agency_cd</th>\n",
       "      <th>site_no</th>\n",
       "      <th>peak_dt</th>\n",
       "      <th>peak_va</th>\n",
       "      <th>gage_ht</th>\n",
       "    </tr>\n",
       "  </thead>\n",
       "  <tbody>\n",
       "    <tr>\n",
       "      <th>0</th>\n",
       "      <td>USGS</td>\n",
       "      <td>3171000</td>\n",
       "      <td>1878-09-15</td>\n",
       "      <td>217000</td>\n",
       "      <td>37.40</td>\n",
       "    </tr>\n",
       "    <tr>\n",
       "      <th>1</th>\n",
       "      <td>USGS</td>\n",
       "      <td>3171000</td>\n",
       "      <td>1896-04-01</td>\n",
       "      <td>52400</td>\n",
       "      <td>13.00</td>\n",
       "    </tr>\n",
       "    <tr>\n",
       "      <th>2</th>\n",
       "      <td>USGS</td>\n",
       "      <td>3171000</td>\n",
       "      <td>1897-02-22</td>\n",
       "      <td>67200</td>\n",
       "      <td>16.00</td>\n",
       "    </tr>\n",
       "    <tr>\n",
       "      <th>3</th>\n",
       "      <td>USGS</td>\n",
       "      <td>3171000</td>\n",
       "      <td>1898-09-23</td>\n",
       "      <td>37200</td>\n",
       "      <td>9.60</td>\n",
       "    </tr>\n",
       "    <tr>\n",
       "      <th>4</th>\n",
       "      <td>USGS</td>\n",
       "      <td>3171000</td>\n",
       "      <td>1899-03-05</td>\n",
       "      <td>50600</td>\n",
       "      <td>12.60</td>\n",
       "    </tr>\n",
       "    <tr>\n",
       "      <th>...</th>\n",
       "      <td>...</td>\n",
       "      <td>...</td>\n",
       "      <td>...</td>\n",
       "      <td>...</td>\n",
       "      <td>...</td>\n",
       "    </tr>\n",
       "    <tr>\n",
       "      <th>122</th>\n",
       "      <td>USGS</td>\n",
       "      <td>3171000</td>\n",
       "      <td>2017-04-24</td>\n",
       "      <td>61800</td>\n",
       "      <td>16.78</td>\n",
       "    </tr>\n",
       "    <tr>\n",
       "      <th>123</th>\n",
       "      <td>USGS</td>\n",
       "      <td>3171000</td>\n",
       "      <td>2018-09-17</td>\n",
       "      <td>59400</td>\n",
       "      <td>16.30</td>\n",
       "    </tr>\n",
       "    <tr>\n",
       "      <th>124</th>\n",
       "      <td>USGS</td>\n",
       "      <td>3171000</td>\n",
       "      <td>2018-10-12</td>\n",
       "      <td>109000</td>\n",
       "      <td>23.83</td>\n",
       "    </tr>\n",
       "    <tr>\n",
       "      <th>125</th>\n",
       "      <td>USGS</td>\n",
       "      <td>3171000</td>\n",
       "      <td>2020-05-21</td>\n",
       "      <td>93500</td>\n",
       "      <td>21.71</td>\n",
       "    </tr>\n",
       "    <tr>\n",
       "      <th>126</th>\n",
       "      <td>USGS</td>\n",
       "      <td>3171000</td>\n",
       "      <td>2020-11-12</td>\n",
       "      <td>68500</td>\n",
       "      <td>17.99</td>\n",
       "    </tr>\n",
       "  </tbody>\n",
       "</table>\n",
       "<p>127 rows × 5 columns</p>\n",
       "</div>"
      ],
      "text/plain": [
       "    agency_cd  site_no     peak_dt  peak_va  gage_ht\n",
       "0        USGS  3171000  1878-09-15   217000    37.40\n",
       "1        USGS  3171000  1896-04-01    52400    13.00\n",
       "2        USGS  3171000  1897-02-22    67200    16.00\n",
       "3        USGS  3171000  1898-09-23    37200     9.60\n",
       "4        USGS  3171000  1899-03-05    50600    12.60\n",
       "..        ...      ...         ...      ...      ...\n",
       "122      USGS  3171000  2017-04-24    61800    16.78\n",
       "123      USGS  3171000  2018-09-17    59400    16.30\n",
       "124      USGS  3171000  2018-10-12   109000    23.83\n",
       "125      USGS  3171000  2020-05-21    93500    21.71\n",
       "126      USGS  3171000  2020-11-12    68500    17.99\n",
       "\n",
       "[127 rows x 5 columns]"
      ]
     },
     "metadata": {},
     "output_type": "display_data"
    }
   ],
   "source": [
    "datafile = 'NewRiver_annual_peak.csv'\n",
    "Qp = pd.read_csv(datafile)\n",
    "display(Qp)"
   ]
  },
  {
   "cell_type": "markdown",
   "id": "56d1809c-3737-4ac9-b196-5cf123acb42f",
   "metadata": {},
   "source": [
    "Let's look at the data types"
   ]
  },
  {
   "cell_type": "code",
   "execution_count": 3,
   "id": "aae3e247-ab4e-4483-ac29-91bc085f489e",
   "metadata": {},
   "outputs": [
    {
     "data": {
      "text/plain": [
       "agency_cd     object\n",
       "site_no        int64\n",
       "peak_dt       object\n",
       "peak_va        int64\n",
       "gage_ht      float64\n",
       "dtype: object"
      ]
     },
     "execution_count": 3,
     "metadata": {},
     "output_type": "execute_result"
    }
   ],
   "source": [
    "Qp.dtypes"
   ]
  },
  {
   "cell_type": "markdown",
   "id": "1d9f459a-3b88-4208-8bd6-a48c48db3514",
   "metadata": {},
   "source": [
    "In this series we don't need to combine any columns into a single date-time column. However, its worth chaning ```peak_dt``` to a datetime variable"
   ]
  },
  {
   "cell_type": "code",
   "execution_count": 4,
   "id": "416d907f-50c5-4aa6-823b-2ed9582527a0",
   "metadata": {},
   "outputs": [
    {
     "data": {
      "text/plain": [
       "agency_cd            object\n",
       "site_no               int64\n",
       "peak_dt      datetime64[ns]\n",
       "peak_va               int64\n",
       "gage_ht             float64\n",
       "dtype: object"
      ]
     },
     "execution_count": 4,
     "metadata": {},
     "output_type": "execute_result"
    }
   ],
   "source": [
    "Qp['peak_dt'] = pd.to_datetime(Qp['peak_dt'], format='%Y-%m-%d')\n",
    "Qp.dtypes"
   ]
  },
  {
   "cell_type": "markdown",
   "id": "5dbe19dc-cb35-4bf0-b573-f6b2c10b198a",
   "metadata": {},
   "source": [
    "Now let's plot the peak flows. Because the flows are not connected sequentially in time, we will use markers instad of a line to represent the data in the plot"
   ]
  },
  {
   "cell_type": "code",
   "execution_count": 5,
   "id": "96fe3fdb-8f2f-4a6e-a6ed-609444b04160",
   "metadata": {},
   "outputs": [
    {
     "data": {
      "application/vnd.jupyter.widget-view+json": {
       "model_id": "fc0a515f9e604f16b7dc19b7f24cc33e",
       "version_major": 2,
       "version_minor": 0
      },
      "image/png": "[encoded data removed]",
      "text/html": [
       "\n",
       "            <div style=\"display: inline-block;\">\n",
       "                <div class=\"jupyter-widgets widget-label\" style=\"text-align: center;\">\n",
       "                    Figure\n",
       "                </div>\n",
       "                <img src='data:image/png;base64,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' width=640.0/>\n",
       "            </div>\n",
       "        "
      ],
      "text/plain": [
       "Canvas(toolbar=Toolbar(toolitems=[('Home', 'Reset original view', 'home', 'home'), ('Back', 'Back to previous …"
      ]
     },
     "metadata": {},
     "output_type": "display_data"
    }
   ],
   "source": [
    "fig, ax1 = plt.subplots()\n",
    "ax1.plot(Qp['peak_dt'], Qp['peak_va'],'o',alpha=1)\n",
    "ax1.set_ylabel('$Q_p~\\mathrm{[ft^3/s]}$')\n",
    "ax1.set_xlabel('Date of Peak');"
   ]
  },
  {
   "cell_type": "markdown",
   "id": "844e39e8-a7b9-4258-875b-c38535c3206d",
   "metadata": {},
   "source": [
    "## Accessing specific data\n",
    "\n",
    "What is the largest flow ever recorded at the station?"
   ]
  },
  {
   "cell_type": "code",
   "execution_count": 6,
   "id": "f5246776-eaaf-47ee-b9ab-acda8b9063fb",
   "metadata": {},
   "outputs": [
    {
     "data": {
      "text/plain": [
       "218000"
      ]
     },
     "execution_count": 6,
     "metadata": {},
     "output_type": "execute_result"
    }
   ],
   "source": [
    "max(Qp['peak_va'])"
   ]
  },
  {
   "cell_type": "markdown",
   "id": "86afaec4-8720-419b-90e1-b08d52008712",
   "metadata": {},
   "source": [
    "How close was the last major peak to the highest value every recorded?\n",
    "\n",
    "First let's look at how we find the most recent discharge. We'll first print out all of the values and then print out only the last one."
   ]
  },
  {
   "cell_type": "code",
   "execution_count": 7,
   "id": "8074f713-9ac7-4a71-b254-d534c3f76d23",
   "metadata": {},
   "outputs": [
    {
     "data": {
      "text/plain": [
       "0      217000\n",
       "1       52400\n",
       "2       67200\n",
       "3       37200\n",
       "4       50600\n",
       "        ...  \n",
       "122     61800\n",
       "123     59400\n",
       "124    109000\n",
       "125     93500\n",
       "126     68500\n",
       "Name: peak_va, Length: 127, dtype: int64"
      ]
     },
     "execution_count": 7,
     "metadata": {},
     "output_type": "execute_result"
    }
   ],
   "source": [
    "Qp['peak_va']"
   ]
  },
  {
   "cell_type": "code",
   "execution_count": 8,
   "id": "a59d7c1f-3e82-4234-ab8e-56da25d4d01c",
   "metadata": {},
   "outputs": [
    {
     "data": {
      "text/plain": [
       "68500"
      ]
     },
     "execution_count": 8,
     "metadata": {},
     "output_type": "execute_result"
    }
   ],
   "source": [
    "Qp['peak_va'].iloc[-1]"
   ]
  },
  {
   "cell_type": "markdown",
   "id": "cc74e675-71e5-483c-8a79-5421d7790ebe",
   "metadata": {},
   "source": [
    "Note that we can also find this value by using ```.iloc[row index,column index]``` on the dataframe ```Qp``` as a whole"
   ]
  },
  {
   "cell_type": "code",
   "execution_count": 9,
   "id": "f096906d-70ca-4f20-9956-8a5b3e6b51f9",
   "metadata": {},
   "outputs": [
    {
     "data": {
      "text/plain": [
       "68500"
      ]
     },
     "execution_count": 9,
     "metadata": {},
     "output_type": "execute_result"
    }
   ],
   "source": [
    "Qp.iloc[-1,3]"
   ]
  },
  {
   "cell_type": "markdown",
   "id": "8de11e27-bb71-4df8-b17f-a299c1442e0f",
   "metadata": {},
   "source": [
    "What day did this most recent peak flow occur?"
   ]
  },
  {
   "cell_type": "code",
   "execution_count": 10,
   "id": "0a0ab93b-e101-49ea-8165-401bfad31629",
   "metadata": {},
   "outputs": [
    {
     "data": {
      "text/plain": [
       "Timestamp('2020-11-12 00:00:00')"
      ]
     },
     "execution_count": 10,
     "metadata": {},
     "output_type": "execute_result"
    }
   ],
   "source": [
    "Qp['peak_dt'].iloc[-1]"
   ]
  },
  {
   "cell_type": "markdown",
   "id": "f38c0bf5-7e8d-4d96-9249-589e97553fe9",
   "metadata": {},
   "source": [
    "What how big, in terms of a fraction, was this most recent flow relative to the max ever recorded?"
   ]
  },
  {
   "cell_type": "code",
   "execution_count": 11,
   "id": "bd9600dc-0205-4f2d-83b2-a3701d63f75f",
   "metadata": {},
   "outputs": [
    {
     "data": {
      "text/plain": [
       "0.31422018348623854"
      ]
     },
     "execution_count": 11,
     "metadata": {},
     "output_type": "execute_result"
    }
   ],
   "source": [
    "Qp['peak_va'].iloc[-1]/max(Qp['peak_va'])"
   ]
  },
  {
   "cell_type": "markdown",
   "id": "afdacc82-6299-4970-8c1d-e4bb98ab1915",
   "metadata": {},
   "source": [
    "How big in terms of a percent?"
   ]
  },
  {
   "cell_type": "code",
   "execution_count": 12,
   "id": "95b28aa0-84be-4014-8739-66988c7845f7",
   "metadata": {},
   "outputs": [
    {
     "data": {
      "text/plain": [
       "31.422018348623855"
      ]
     },
     "execution_count": 12,
     "metadata": {},
     "output_type": "execute_result"
    }
   ],
   "source": [
    "Qp['peak_va'].iloc[-1]/max(Qp['peak_va'])*100"
   ]
  },
  {
   "cell_type": "markdown",
   "id": "3b42e653-3133-4aa8-ac09-030e7dd954ad",
   "metadata": {},
   "source": [
    "On what day did the maximum annual peak flow occur? We previously found the max discharge using ```max(Qp['peak_va'])```, e.g.,"
   ]
  },
  {
   "cell_type": "code",
   "execution_count": 13,
   "id": "0fc79162-5ccd-44e7-b911-670c4264eb7b",
   "metadata": {},
   "outputs": [
    {
     "data": {
      "text/plain": [
       "218000"
      ]
     },
     "execution_count": 13,
     "metadata": {},
     "output_type": "execute_result"
    }
   ],
   "source": [
    "max(Qp['peak_va'])"
   ]
  },
  {
   "cell_type": "markdown",
   "id": "cf3daa67-bd60-4f73-8506-0992d674c002",
   "metadata": {},
   "source": [
    "What we now need to do is to find the time associated with that value. For small datasets we could easily print out the dataframe and look for it."
   ]
  },
  {
   "cell_type": "code",
   "execution_count": 14,
   "id": "c4c2cf63-b192-4c05-b6b8-6a2964199003",
   "metadata": {
    "tags": []
   },
   "outputs": [
    {
     "data": {
      "text/html": [
       "<div>\n",
       "<style scoped>\n",
       "    .dataframe tbody tr th:only-of-type {\n",
       "        vertical-align: middle;\n",
       "    }\n",
       "\n",
       "    .dataframe tbody tr th {\n",
       "        vertical-align: top;\n",
       "    }\n",
       "\n",
       "    .dataframe thead th {\n",
       "        text-align: right;\n",
       "    }\n",
       "</style>\n",
       "<table border=\"1\" class=\"dataframe\">\n",
       "  <thead>\n",
       "    <tr style=\"text-align: right;\">\n",
       "      <th></th>\n",
       "      <th>agency_cd</th>\n",
       "      <th>site_no</th>\n",
       "      <th>peak_dt</th>\n",
       "      <th>peak_va</th>\n",
       "      <th>gage_ht</th>\n",
       "    </tr>\n",
       "  </thead>\n",
       "  <tbody>\n",
       "    <tr>\n",
       "      <th>0</th>\n",
       "      <td>USGS</td>\n",
       "      <td>3171000</td>\n",
       "      <td>1878-09-15</td>\n",
       "      <td>217000</td>\n",
       "      <td>37.40</td>\n",
       "    </tr>\n",
       "    <tr>\n",
       "      <th>1</th>\n",
       "      <td>USGS</td>\n",
       "      <td>3171000</td>\n",
       "      <td>1896-04-01</td>\n",
       "      <td>52400</td>\n",
       "      <td>13.00</td>\n",
       "    </tr>\n",
       "    <tr>\n",
       "      <th>2</th>\n",
       "      <td>USGS</td>\n",
       "      <td>3171000</td>\n",
       "      <td>1897-02-22</td>\n",
       "      <td>67200</td>\n",
       "      <td>16.00</td>\n",
       "    </tr>\n",
       "    <tr>\n",
       "      <th>3</th>\n",
       "      <td>USGS</td>\n",
       "      <td>3171000</td>\n",
       "      <td>1898-09-23</td>\n",
       "      <td>37200</td>\n",
       "      <td>9.60</td>\n",
       "    </tr>\n",
       "    <tr>\n",
       "      <th>4</th>\n",
       "      <td>USGS</td>\n",
       "      <td>3171000</td>\n",
       "      <td>1899-03-05</td>\n",
       "      <td>50600</td>\n",
       "      <td>12.60</td>\n",
       "    </tr>\n",
       "    <tr>\n",
       "      <th>...</th>\n",
       "      <td>...</td>\n",
       "      <td>...</td>\n",
       "      <td>...</td>\n",
       "      <td>...</td>\n",
       "      <td>...</td>\n",
       "    </tr>\n",
       "    <tr>\n",
       "      <th>122</th>\n",
       "      <td>USGS</td>\n",
       "      <td>3171000</td>\n",
       "      <td>2017-04-24</td>\n",
       "      <td>61800</td>\n",
       "      <td>16.78</td>\n",
       "    </tr>\n",
       "    <tr>\n",
       "      <th>123</th>\n",
       "      <td>USGS</td>\n",
       "      <td>3171000</td>\n",
       "      <td>2018-09-17</td>\n",
       "      <td>59400</td>\n",
       "      <td>16.30</td>\n",
       "    </tr>\n",
       "    <tr>\n",
       "      <th>124</th>\n",
       "      <td>USGS</td>\n",
       "      <td>3171000</td>\n",
       "      <td>2018-10-12</td>\n",
       "      <td>109000</td>\n",
       "      <td>23.83</td>\n",
       "    </tr>\n",
       "    <tr>\n",
       "      <th>125</th>\n",
       "      <td>USGS</td>\n",
       "      <td>3171000</td>\n",
       "      <td>2020-05-21</td>\n",
       "      <td>93500</td>\n",
       "      <td>21.71</td>\n",
       "    </tr>\n",
       "    <tr>\n",
       "      <th>126</th>\n",
       "      <td>USGS</td>\n",
       "      <td>3171000</td>\n",
       "      <td>2020-11-12</td>\n",
       "      <td>68500</td>\n",
       "      <td>17.99</td>\n",
       "    </tr>\n",
       "  </tbody>\n",
       "</table>\n",
       "<p>127 rows × 5 columns</p>\n",
       "</div>"
      ],
      "text/plain": [
       "    agency_cd  site_no    peak_dt  peak_va  gage_ht\n",
       "0        USGS  3171000 1878-09-15   217000    37.40\n",
       "1        USGS  3171000 1896-04-01    52400    13.00\n",
       "2        USGS  3171000 1897-02-22    67200    16.00\n",
       "3        USGS  3171000 1898-09-23    37200     9.60\n",
       "4        USGS  3171000 1899-03-05    50600    12.60\n",
       "..        ...      ...        ...      ...      ...\n",
       "122      USGS  3171000 2017-04-24    61800    16.78\n",
       "123      USGS  3171000 2018-09-17    59400    16.30\n",
       "124      USGS  3171000 2018-10-12   109000    23.83\n",
       "125      USGS  3171000 2020-05-21    93500    21.71\n",
       "126      USGS  3171000 2020-11-12    68500    17.99\n",
       "\n",
       "[127 rows x 5 columns]"
      ]
     },
     "metadata": {},
     "output_type": "display_data"
    }
   ],
   "source": [
    "display(Qp)"
   ]
  },
  {
   "cell_type": "markdown",
   "id": "7b92554d-7a02-407a-b5bd-d3c9a9300699",
   "metadata": {
    "tags": []
   },
   "source": [
    "Here we see that we cannot find it directly in the table. We could go back to our interactive plot and find it that way also. Alternatively we can use different methods of find it in the database. One such method is get the index value associated with the max and then use the index with ```.iloc[]``` to find or print out the ```Qp['peak_dt']``` value associated with that index or row."
   ]
  },
  {
   "cell_type": "code",
   "execution_count": 15,
   "id": "6e0122cb-9f02-4586-99f3-128c4f465740",
   "metadata": {},
   "outputs": [
    {
     "data": {
      "text/plain": [
       "Timestamp('1940-08-14 00:00:00')"
      ]
     },
     "execution_count": 15,
     "metadata": {},
     "output_type": "execute_result"
    }
   ],
   "source": [
    "index = Qp.index[Qp['peak_va']==max(Qp['peak_va'])][0]\n",
    "Qp['peak_dt'].iloc[index]"
   ]
  },
  {
   "cell_type": "markdown",
   "id": "808b5101-9f18-4d0a-91c5-b75fb5dc5edc",
   "metadata": {},
   "source": [
    "What was the stage or gage height at that peak flow condition?"
   ]
  },
  {
   "cell_type": "code",
   "execution_count": 16,
   "id": "a6b1c696-928d-4568-ac0c-f89d67a49a4b",
   "metadata": {},
   "outputs": [
    {
     "data": {
      "text/plain": [
       "35.96"
      ]
     },
     "execution_count": 16,
     "metadata": {},
     "output_type": "execute_result"
    }
   ],
   "source": [
    "Qp['gage_ht'].iloc[index]"
   ]
  },
  {
   "cell_type": "markdown",
   "id": "f9e520c9-0b1f-497d-bda6-b29904b4229d",
   "metadata": {},
   "source": [
    "## Flood frequency analysis\n",
    "\n",
    "How likely is it for a particular flood to occur? What is the 2, 50, 100 year reoccurance interval floods? There are more complex ways to do this analysis, but the simplest to calculate the probability of exeedance in much the same way as we did when looking at thresholds in the 15-min data. For this we can take\n",
    "\n",
    "$$ P = \\frac{m}{n+1}$$\n",
    "\n",
    "where $P$ is the probability of exceedance for a given flow, $m$ is the flow event rank, and $n$ is the total number of recorded annual flood events. This analysis assumes: that the floods are independent and that the signal is stationary (might not be the case with climate change).\n",
    "\n",
    "Our reoccurance interval (or return period flood) is $R = 1/P$.\n",
    "\n",
    "We are going to do a fairly simple analysis to calculate quantities like the 100 year return period flood. We'll do so in a simplified way to make the coding as easy as possible. For more information on flood frequency analysis I'd encourage you to give the following YouTube video from Practical Engineering a watch: [The 100 year Flood Is Not What You Think It Is (Maybe)](https://www.youtube.com/watch?v=EACkiMRT0pc)\n",
    "\n",
    "Let's start out by simpling sorting or ranking our data from largest to smallest in a new array we'll call ```Q_sorted```"
   ]
  },
  {
   "cell_type": "code",
   "execution_count": 17,
   "id": "49b39b98-e2a1-4e04-9806-2f7017978ee8",
   "metadata": {},
   "outputs": [
    {
     "data": {
      "text/plain": [
       "array([218000, 217000, 200000, 147000, 111000, 109000, 108000, 108000,\n",
       "        93500,  92600,  89300,  80600,  80000,  79900,  79800,  79300,\n",
       "        76200,  74100,  71000,  70900,  70400,  69400,  68500,  67200,\n",
       "        65200,  62700,  62200,  61800,  60200,  60000,  59400,  59300,\n",
       "        58700,  55700,  55700,  54400,  54100,  53900,  53900,  52400,\n",
       "        50600,  50600,  49600,  48400,  48000,  48000,  47700,  47500,\n",
       "        46800,  46600,  46200,  46200,  44800,  44400,  43400,  42600,\n",
       "        41600,  41300,  41000,  40800,  40300,  40100,  40000,  39800,\n",
       "        39000,  38700,  38600,  38500,  38500,  37200,  37000,  35800,\n",
       "        34900,  34900,  34500,  34500,  34500,  34000,  34000,  33500,\n",
       "        33500,  33300,  32500,  32100,  32100,  32000,  32000,  31800,\n",
       "        31400,  31300,  31000,  31000,  30500,  28700,  28100,  28000,\n",
       "        27500,  25700,  24400,  24200,  24200,  24000,  23400,  23100,\n",
       "        22900,  22800,  22800,  22700,  22500,  21900,  21900,  21700,\n",
       "        20100,  19700,  19600,  19600,  19100,  18400,  18300,  15800,\n",
       "        15300,  15200,  14000,  13600,  13200,  12500,  11200])"
      ]
     },
     "execution_count": 17,
     "metadata": {},
     "output_type": "execute_result"
    }
   ],
   "source": [
    "Q_sorted = np.array(sorted(Qp['peak_va'],reverse=True))\n",
    "Q_sorted"
   ]
  },
  {
   "cell_type": "code",
   "execution_count": 18,
   "id": "382c7564-74ee-4d92-8007-2421e673315f",
   "metadata": {},
   "outputs": [
    {
     "name": "stdout",
     "output_type": "stream",
     "text": [
      "The total number of years in our record is 127\n"
     ]
    }
   ],
   "source": [
    "print('The total number of years in our record is', len(Q_sorted))"
   ]
  },
  {
   "cell_type": "markdown",
   "id": "85e81167-0564-4d73-927c-6b22b55ddeb8",
   "metadata": {},
   "source": [
    "This means with our analysis we will be able to get up to defining a ```len(Q_sorted)+1``` reoccurance flood. Let's assign a rank and then calculate $P$ and $R$."
   ]
  },
  {
   "cell_type": "code",
   "execution_count": 19,
   "id": "b49938b6-d042-499f-8edd-42cf398a976b",
   "metadata": {},
   "outputs": [],
   "source": [
    "n = len(Q_sorted)\n",
    "rank = np.arange(n)+1\n",
    "P = rank/(n+1)\n",
    "R = 1/P"
   ]
  },
  {
   "cell_type": "markdown",
   "id": "c03b86ec-1eba-4787-ad18-3624a4b610f2",
   "metadata": {},
   "source": [
    "Let's put these all into a dataframe for display purposes. We may also want to save as a ```.csv``` file at some point."
   ]
  },
  {
   "cell_type": "code",
   "execution_count": 20,
   "id": "9d420269-3c96-47f0-9181-149fde1e79ef",
   "metadata": {},
   "outputs": [
    {
     "data": {
      "text/html": [
       "<div>\n",
       "<style scoped>\n",
       "    .dataframe tbody tr th:only-of-type {\n",
       "        vertical-align: middle;\n",
       "    }\n",
       "\n",
       "    .dataframe tbody tr th {\n",
       "        vertical-align: top;\n",
       "    }\n",
       "\n",
       "    .dataframe thead th {\n",
       "        text-align: right;\n",
       "    }\n",
       "</style>\n",
       "<table border=\"1\" class=\"dataframe\">\n",
       "  <thead>\n",
       "    <tr style=\"text-align: right;\">\n",
       "      <th></th>\n",
       "      <th>Rank</th>\n",
       "      <th>Q_cfs</th>\n",
       "      <th>P_exceed</th>\n",
       "      <th>RI</th>\n",
       "    </tr>\n",
       "  </thead>\n",
       "  <tbody>\n",
       "    <tr>\n",
       "      <th>0</th>\n",
       "      <td>1</td>\n",
       "      <td>218000</td>\n",
       "      <td>0.007812</td>\n",
       "      <td>128.000000</td>\n",
       "    </tr>\n",
       "    <tr>\n",
       "      <th>1</th>\n",
       "      <td>2</td>\n",
       "      <td>217000</td>\n",
       "      <td>0.015625</td>\n",
       "      <td>64.000000</td>\n",
       "    </tr>\n",
       "    <tr>\n",
       "      <th>2</th>\n",
       "      <td>3</td>\n",
       "      <td>200000</td>\n",
       "      <td>0.023438</td>\n",
       "      <td>42.666667</td>\n",
       "    </tr>\n",
       "    <tr>\n",
       "      <th>3</th>\n",
       "      <td>4</td>\n",
       "      <td>147000</td>\n",
       "      <td>0.031250</td>\n",
       "      <td>32.000000</td>\n",
       "    </tr>\n",
       "    <tr>\n",
       "      <th>4</th>\n",
       "      <td>5</td>\n",
       "      <td>111000</td>\n",
       "      <td>0.039062</td>\n",
       "      <td>25.600000</td>\n",
       "    </tr>\n",
       "    <tr>\n",
       "      <th>...</th>\n",
       "      <td>...</td>\n",
       "      <td>...</td>\n",
       "      <td>...</td>\n",
       "      <td>...</td>\n",
       "    </tr>\n",
       "    <tr>\n",
       "      <th>122</th>\n",
       "      <td>123</td>\n",
       "      <td>14000</td>\n",
       "      <td>0.960938</td>\n",
       "      <td>1.040650</td>\n",
       "    </tr>\n",
       "    <tr>\n",
       "      <th>123</th>\n",
       "      <td>124</td>\n",
       "      <td>13600</td>\n",
       "      <td>0.968750</td>\n",
       "      <td>1.032258</td>\n",
       "    </tr>\n",
       "    <tr>\n",
       "      <th>124</th>\n",
       "      <td>125</td>\n",
       "      <td>13200</td>\n",
       "      <td>0.976562</td>\n",
       "      <td>1.024000</td>\n",
       "    </tr>\n",
       "    <tr>\n",
       "      <th>125</th>\n",
       "      <td>126</td>\n",
       "      <td>12500</td>\n",
       "      <td>0.984375</td>\n",
       "      <td>1.015873</td>\n",
       "    </tr>\n",
       "    <tr>\n",
       "      <th>126</th>\n",
       "      <td>127</td>\n",
       "      <td>11200</td>\n",
       "      <td>0.992188</td>\n",
       "      <td>1.007874</td>\n",
       "    </tr>\n",
       "  </tbody>\n",
       "</table>\n",
       "<p>127 rows × 4 columns</p>\n",
       "</div>"
      ],
      "text/plain": [
       "     Rank   Q_cfs  P_exceed          RI\n",
       "0       1  218000  0.007812  128.000000\n",
       "1       2  217000  0.015625   64.000000\n",
       "2       3  200000  0.023438   42.666667\n",
       "3       4  147000  0.031250   32.000000\n",
       "4       5  111000  0.039062   25.600000\n",
       "..    ...     ...       ...         ...\n",
       "122   123   14000  0.960938    1.040650\n",
       "123   124   13600  0.968750    1.032258\n",
       "124   125   13200  0.976562    1.024000\n",
       "125   126   12500  0.984375    1.015873\n",
       "126   127   11200  0.992188    1.007874\n",
       "\n",
       "[127 rows x 4 columns]"
      ]
     },
     "execution_count": 20,
     "metadata": {},
     "output_type": "execute_result"
    }
   ],
   "source": [
    "freq_anal = pd.DataFrame({'Rank':rank,'Q_cfs':Q_sorted,'P_exceed':P,'RI':R})\n",
    "freq_anal"
   ]
  },
  {
   "cell_type": "markdown",
   "id": "89aff7d3-e820-4236-ad69-90ae6570996b",
   "metadata": {},
   "source": [
    "## Linear interpolation to find particular reoccurance intervals"
   ]
  },
  {
   "cell_type": "markdown",
   "id": "bf7dd336-ae6c-47d5-9485-25169a425469",
   "metadata": {},
   "source": [
    "Let's find the 2, 10, 50 and 100 year storms using simple linear interpolation. Linear interpolation is easy with ```np.interp()```. However,```np.interp()``` assumes that the arrays you are working increase with each step into the array. For the frequency analsysis we sorted the discharge from largest to smallest instead of smallest to largerst. So we will need to do the interpolation on the reverse of the arrays. We can reverse the order of the array using ```[::-1]```."
   ]
  },
  {
   "cell_type": "code",
   "execution_count": 21,
   "id": "fc2a9646-1759-49fb-b04f-a320f1f7a349",
   "metadata": {},
   "outputs": [
    {
     "name": "stdout",
     "output_type": "stream",
     "text": [
      "The 2 yr return period flow is 39800.0 [cfs]\n",
      "The 10 yr return period flow is 80112.0 [cfs]\n",
      "The 50 yr return period flow is 205844.0 [cfs]\n",
      "The 100 yr return period flow is 217562.0 [cfs]\n"
     ]
    }
   ],
   "source": [
    "Q2yr = np.interp(2,R[::-1],Q_sorted[::-1])\n",
    "Q10yr = np.interp(10,R[::-1],Q_sorted[::-1])\n",
    "Q50yr = np.interp(50,R[::-1],Q_sorted[::-1])\n",
    "Q100yr = np.interp(100,R[::-1],Q_sorted[::-1])\n",
    "\n",
    "print('The 2 yr return period flow is', np.around(Q2yr, decimals = 0),'[cfs]')\n",
    "print('The 10 yr return period flow is', np.around(Q10yr, decimals = 0),'[cfs]')\n",
    "print('The 50 yr return period flow is', np.around(Q50yr, decimals = 0),'[cfs]')\n",
    "print('The 100 yr return period flow is', np.around(Q100yr, decimals = 0),'[cfs]')"
   ]
  },
  {
   "cell_type": "markdown",
   "id": "52ca2a84-f615-4cba-9310-0ae3b529a880",
   "metadata": {},
   "source": [
    "What is the probability that a 2 year flood will happen in any give year?"
   ]
  },
  {
   "cell_type": "code",
   "execution_count": 22,
   "id": "da6b1b3b-707b-4d4d-aad9-49e2a8996045",
   "metadata": {},
   "outputs": [
    {
     "data": {
      "text/plain": [
       "0.5"
      ]
     },
     "execution_count": 22,
     "metadata": {},
     "output_type": "execute_result"
    }
   ],
   "source": [
    "1/2"
   ]
  },
  {
   "cell_type": "markdown",
   "id": "db11af4d-d89a-40d5-a067-af336b1c372b",
   "metadata": {},
   "source": [
    "The value listed above is the probabily that the flow will exceed the 2 year flood in any given year. What is the probabily that the 100 year flood will be exceeded in any given year?"
   ]
  },
  {
   "cell_type": "code",
   "execution_count": 23,
   "id": "23cc6064-1ad4-468b-87bd-ecf12efb810d",
   "metadata": {},
   "outputs": [
    {
     "data": {
      "text/plain": [
       "0.01"
      ]
     },
     "execution_count": 23,
     "metadata": {},
     "output_type": "execute_result"
    }
   ],
   "source": [
    "1/100"
   ]
  },
  {
   "cell_type": "markdown",
   "id": "2b6eb78b-d9a4-4d9f-8cc1-6aac8b7243db",
   "metadata": {},
   "source": [
    "Let's say a 100 year flood occurs this year. What is the probability that it will happen next year?"
   ]
  },
  {
   "cell_type": "code",
   "execution_count": 24,
   "id": "b7cc92ad-5ec9-4d38-8391-e873607a55b6",
   "metadata": {},
   "outputs": [
    {
     "data": {
      "text/plain": [
       "0.01"
      ]
     },
     "execution_count": 24,
     "metadata": {},
     "output_type": "execute_result"
    }
   ],
   "source": [
    "1/100"
   ]
  },
  {
   "cell_type": "markdown",
   "id": "f3cf3f82-0d72-4eda-99a8-07c88a43d15c",
   "metadata": {},
   "source": [
    "What is the average annual peak flow at the New River Gage station according to []()"
   ]
  },
  {
   "cell_type": "markdown",
   "id": "312667d7-2904-4e76-b5cf-bc775e9098a6",
   "metadata": {},
   "source": [
    "## Fitting the data and extending it past your data range"
   ]
  },
  {
   "cell_type": "markdown",
   "id": "b67c7f00-e5c2-40bb-900c-17b71aebb3f8",
   "metadata": {},
   "source": [
    "Here we plot exceedance probability, $P$ (in terms of percent), vs $Q$ to create a flow exceedance curve"
   ]
  },
  {
   "cell_type": "code",
   "execution_count": 25,
   "id": "97314a74-1103-479d-ab1a-4ee751673479",
   "metadata": {},
   "outputs": [
    {
     "data": {
      "application/vnd.jupyter.widget-view+json": {
       "model_id": "eebad4a7ed554918ba52b25e40bbef7d",
       "version_major": 2,
       "version_minor": 0
      },
      "image/png": "[encoded data removed]",
      "text/html": [
       "\n",
       "            <div style=\"display: inline-block;\">\n",
       "                <div class=\"jupyter-widgets widget-label\" style=\"text-align: center;\">\n",
       "                    Figure\n",
       "                </div>\n",
       "                <img src='data:image/png;base64,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' width=640.0/>\n",
       "            </div>\n",
       "        "
      ],
      "text/plain": [
       "Canvas(toolbar=Toolbar(toolitems=[('Home', 'Reset original view', 'home', 'home'), ('Back', 'Back to previous …"
      ]
     },
     "metadata": {},
     "output_type": "display_data"
    }
   ],
   "source": [
    "plt.close('all') # close the interactive figures\n",
    " \n",
    "fig, ax1 = plt.subplots()\n",
    "ax1.plot(P*100, Q_sorted,'o',alpha=1)\n",
    "ax1.set_ylabel('$Q_p~\\mathrm{[ft^3/s]}$')\n",
    "ax1.set_xlabel('Exceedance Probability [%]');"
   ]
  },
  {
   "cell_type": "markdown",
   "id": "c1185720-9582-4ca6-8500-63e60eb96bf5",
   "metadata": {},
   "source": [
    "Now we are going to change the way in which this is plotted so that it looks like a typicaly exceedance probabilty plot. To do this we will reverse the horizontal access so that exceedance probabilty is decreasing to the right and the us log axes."
   ]
  },
  {
   "cell_type": "code",
   "execution_count": 26,
   "id": "1f1236cf-1fbe-488d-ab43-f222c074a116",
   "metadata": {},
   "outputs": [
    {
     "data": {
      "application/vnd.jupyter.widget-view+json": {
       "model_id": "66552d68b8d8419ab9b3be544748453d",
       "version_major": 2,
       "version_minor": 0
      },
      "image/png": "[encoded data removed]",
      "text/html": [
       "\n",
       "            <div style=\"display: inline-block;\">\n",
       "                <div class=\"jupyter-widgets widget-label\" style=\"text-align: center;\">\n",
       "                    Figure\n",
       "                </div>\n",
       "                <img src='data:image/png;base64,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' width=640.0/>\n",
       "            </div>\n",
       "        "
      ],
      "text/plain": [
       "Canvas(toolbar=Toolbar(toolitems=[('Home', 'Reset original view', 'home', 'home'), ('Back', 'Back to previous …"
      ]
     },
     "metadata": {},
     "output_type": "display_data"
    }
   ],
   "source": [
    "fig, ax1 = plt.subplots()\n",
    "ax1.plot(P*100, Q_sorted,'o',alpha=1)\n",
    "ax1.invert_xaxis()\n",
    "ax1.set_xscale('log')\n",
    "ax1.set_yscale('log')\n",
    "ax1.set_ylabel('$Q_p~\\mathrm{[ft^3/s]}$')\n",
    "ax1.set_xlabel('Exceedance Probability [%]');"
   ]
  },
  {
   "cell_type": "markdown",
   "id": "b94424f1-4a80-4c8e-99b1-8a579c6d700e",
   "metadata": {},
   "source": [
    "The form of the plot above is often how annual peak flow events are displayed.\n",
    "\n",
    "## Fitting an equation to the exceedance curve for extrapolation\n",
    "\n",
    "At this particular gage station we have over 100 years of recorded peak flow data. This is a lot. At most stations we have far less. Recall that the number of years on record influences the size of reoccurrence interval or return period flow that we can calculate. Let's say we only have 30 years worth of data, but we want to calculate the 100 year or high return period flow for engineering purposes. To do this we would need to fit an equation to the data we have and then use the fit to extrapolate up to higher probabilities. There are different ways to do this, but one of the easiest is to use the Gumbel method. \n",
    "\n",
    "The Gumbel method does not require any regression or optimization of fitting coefficients. Instead, it uses the mean or average of the observed discharge values and the standard deviation (a measure of the variation about the average) of the discharge values to estimate the key model or equation inputs. We'll use this method here for that reason. However, note that fitting a log Pearson type III distribution to the data is the approved USGS method for reoccurrence interval prediction. Also, check out the freely available [HEC-SSP](https://www.hec.usace.army.mil/software/hec-ssp/) program from the US Army Corps of Engineers for built-in ways to do the fit and more.\n",
    "\n",
    "The simple Gumbel method we will use makes use of:\n",
    "\n",
    "$$ P = 1-\\exp[-\\exp(-Q^*)] $$\n",
    "\n",
    "where \n",
    "\n",
    "$$ Q^* = \\frac{Q-u}{\\alpha} $$\n",
    "\n",
    "and\n",
    "\n",
    "$$ u = Q_{avg} - 0.5772\\alpha $$\n",
    "\n",
    "Here $Q_{avg}$ is just the mean of the measured discharge values and $\\alpha =\\sigma_Q\\sqrt{6}/pi$ with $\\sigma_Q$ being the standard deviation of the discharge values. \n",
    "\n",
    "To use this method we need to:\n",
    "1. first calculate the mean of the discharge values, $Q_{avg}$, and \n",
    "2. the standard deviation of the disharge values, $\\sigma_Q$.\n",
    "3. Then we calculate $\\alpha$ and $u$. \n",
    "4. Next we assume a range of $Q$ values so that we can calculate $Q^*$ and ultimately\n",
    "5. compute the predicted probabilities of exceedance with $ P = 1-\\exp[-\\exp(-Q^*)] $\n",
    "\n",
    "Frist calculate everything needed for calculating $Q^*$"
   ]
  },
  {
   "cell_type": "code",
   "execution_count": 27,
   "id": "51b1a390-6ab4-4b2b-a466-858494b4bd58",
   "metadata": {},
   "outputs": [],
   "source": [
    "Qavg = np.mean(Q_sorted)\n",
    "Qsd = np.std(Q_sorted)\n",
    "alpha = np.sqrt(6)*Qsd/np.pi\n",
    "u = Qavg - 0.5772*alpha"
   ]
  },
  {
   "cell_type": "markdown",
   "id": "1afb800b-6179-4bbf-bbb5-dd295f59c48c",
   "metadata": {},
   "source": [
    "Now develope the range of discharge values, let's call them $Q_{\\text{calc}}$ for which we will calculate $Q^*$ and after $ P = 1-\\exp[-\\exp(-Q^*)] $."
   ]
  },
  {
   "cell_type": "code",
   "execution_count": 28,
   "id": "7ee4229e-6253-4339-83a8-e4ba41bf655a",
   "metadata": {},
   "outputs": [],
   "source": [
    "Qcalc = np.linspace(min(Q_sorted)-0.1*min(Q_sorted),max(Q_sorted)+0.1*max(Q_sorted),200)"
   ]
  },
  {
   "cell_type": "markdown",
   "id": "f38dd754-ab51-42e4-97dc-0dea4e29048b",
   "metadata": {},
   "source": [
    "No calculate make the calculation and plot the predicted Gumbel function along with the measured data."
   ]
  },
  {
   "cell_type": "code",
   "execution_count": 29,
   "id": "fcf60100-5535-4589-b169-6d1e6aabdd9c",
   "metadata": {},
   "outputs": [
    {
     "data": {
      "application/vnd.jupyter.widget-view+json": {
       "model_id": "e4fb64264b214b64bc41676d53ad00bb",
       "version_major": 2,
       "version_minor": 0
      },
      "image/png": "[encoded data removed]",
      "text/html": [
       "\n",
       "            <div style=\"display: inline-block;\">\n",
       "                <div class=\"jupyter-widgets widget-label\" style=\"text-align: center;\">\n",
       "                    Figure\n",
       "                </div>\n",
       "                <img src='data:image/png;base64,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' width=640.0/>\n",
       "            </div>\n",
       "        "
      ],
      "text/plain": [
       "Canvas(toolbar=Toolbar(toolitems=[('Home', 'Reset original view', 'home', 'home'), ('Back', 'Back to previous …"
      ]
     },
     "metadata": {},
     "output_type": "display_data"
    }
   ],
   "source": [
    "# calculation\n",
    "Qstar = (Qcalc-u)/alpha\n",
    "Pcalc = 1-np.exp(-np.exp(-Qstar))\n",
    "\n",
    "# make the plot and compare with the data\n",
    "fig, ax1 = plt.subplots()\n",
    "ax1.plot(P*100, Q_sorted,'o',alpha=1, label='Observations')\n",
    "ax1.plot(Pcalc*100, Qcalc,alpha=1, label='Theory')\n",
    "ax1.invert_xaxis()\n",
    "ax1.set_xscale('log')\n",
    "ax1.set_yscale('log')\n",
    "ax1.set_ylabel('$Q_p~\\mathrm{[ft^3/s]}$')\n",
    "ax1.set_xlabel('Exceedance Probability [%]');"
   ]
  },
  {
   "cell_type": "markdown",
   "id": "ed24d538-6fef-48df-90c0-59cbb6f1f401",
   "metadata": {},
   "source": [
    "What do you notice about the theoretical prediction when compared to the data? \n",
    "\n",
    "Let's look at the same set of data and predictions but just plotted slightly different."
   ]
  },
  {
   "cell_type": "code",
   "execution_count": 30,
   "id": "7b29589c-ecde-42ee-b46a-2aa5e97743fe",
   "metadata": {},
   "outputs": [
    {
     "data": {
      "application/vnd.jupyter.widget-view+json": {
       "model_id": "77894942c6114c9dbabf7bd7d9c5cb06",
       "version_major": 2,
       "version_minor": 0
      },
      "image/png": "[encoded data removed]",
      "text/html": [
       "\n",
       "            <div style=\"display: inline-block;\">\n",
       "                <div class=\"jupyter-widgets widget-label\" style=\"text-align: center;\">\n",
       "                    Figure\n",
       "                </div>\n",
       "                <img src='data:image/png;base64,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' width=640.0/>\n",
       "            </div>\n",
       "        "
      ],
      "text/plain": [
       "Canvas(toolbar=Toolbar(toolitems=[('Home', 'Reset original view', 'home', 'home'), ('Back', 'Back to previous …"
      ]
     },
     "metadata": {},
     "output_type": "display_data"
    }
   ],
   "source": [
    "plt.close('all')\n",
    "fig, ax1 = plt.subplots()\n",
    "ax1.plot(1/P, Q_sorted,'o',alpha=1, label='Observations')\n",
    "ax1.plot(1/Pcalc, Qcalc,alpha=1, label='Theory')\n",
    "ax1.set_xscale('log')\n",
    "# ax1.set_yscale('log')\n",
    "ax1.set_ylabel('$Q_p~\\mathrm{[ft^3/s]}$')\n",
    "ax1.set_xlabel('Return Period Flood [years]');"
   ]
  },
  {
   "cell_type": "markdown",
   "id": "35260d91-db3e-4013-b441-f93077372d68",
   "metadata": {},
   "source": [
    "Let's compare the 2, 10, 50, and 100 year events we obtained through linear interpolation of the data and those predicted with the Gumbel model. Recall, from the data we have..."
   ]
  },
  {
   "cell_type": "code",
   "execution_count": 31,
   "id": "e2b4131c-bf2c-4c83-83a4-1b980fe53430",
   "metadata": {},
   "outputs": [
    {
     "name": "stdout",
     "output_type": "stream",
     "text": [
      "Linear interpolation of the data gives:\n",
      "- 2 yr = 39800.0 [cfs]\n",
      "- 10 yr = 80112.0 [cfs]\n",
      "- 50 yr = 205844.0 [cfs]\n",
      "- 100 yr = 217562.0 [cfs]\n"
     ]
    }
   ],
   "source": [
    "print('Linear interpolation of the data gives:')\n",
    "print('- 2 yr =', np.around(Q2yr, decimals = 0),'[cfs]')\n",
    "print('- 10 yr =', np.around(Q10yr, decimals = 0),'[cfs]')\n",
    "print('- 50 yr =', np.around(Q50yr, decimals = 0),'[cfs]')\n",
    "print('- 100 yr =', np.around(Q100yr, decimals = 0),'[cfs]')"
   ]
  },
  {
   "cell_type": "markdown",
   "id": "d3cc293b-dea3-4223-a5e2-8b19cabe1d48",
   "metadata": {},
   "source": [
    "The easiest way to get this from the Gumbel prediction is to again do interpolation"
   ]
  },
  {
   "cell_type": "code",
   "execution_count": 32,
   "id": "89d524db-3857-4144-bb76-1bb96018909c",
   "metadata": {},
   "outputs": [
    {
     "name": "stdout",
     "output_type": "stream",
     "text": [
      "Return period flows estimates\n",
      "--------------------------------------\n",
      "        data      |   Gumbel    \n",
      "--------------------------------------\n",
      "2 yr   = 39800.0  | 42812.0 [cfs]\n",
      "10 yr  = 80112.0  | 94029.0 [cfs]\n",
      "50 yr  = 205844.0 | 138929.0 [cfs]\n",
      "100 yr = 217562.0 | 157915.0 [cfs]\n",
      "500 yr = NA       | 201779.0 [cfs]\n"
     ]
    }
   ],
   "source": [
    "Tcalc = 1/Pcalc\n",
    "\n",
    "Q2yrG = np.interp(2,Tcalc,Qcalc)\n",
    "Q10yrG = np.interp(10,Tcalc,Qcalc)\n",
    "Q50yrG = np.interp(50,Tcalc,Qcalc)\n",
    "Q100yrG = np.interp(100,Tcalc,Qcalc)\n",
    "Q500yrG = np.interp(500,Tcalc,Qcalc)\n",
    "\n",
    "print('Return period flows estimates')\n",
    "print('--------------------------------------')\n",
    "print('        data      |   Gumbel    ')\n",
    "print('--------------------------------------')\n",
    "print('2 yr   =', np.around(Q2yr, decimals = 0), ' |',np.around(Q2yrG, decimals = 0),'[cfs]')\n",
    "print('10 yr  =', np.around(Q10yr, decimals = 0), ' |',np.around(Q10yrG, decimals = 0),'[cfs]')\n",
    "print('50 yr  =', np.around(Q50yr, decimals = 0), '|',np.around(Q50yrG, decimals = 0),'[cfs]')\n",
    "print('100 yr =', np.around(Q100yr, decimals = 0), '|',np.around(Q100yrG, decimals = 0),'[cfs]')\n",
    "print('500 yr =', 'NA', '      |',np.around(Q500yrG, decimals = 0),'[cfs]')"
   ]
  },
  {
   "cell_type": "markdown",
   "id": "351979bd-f508-4762-9bc7-b479cf72df4d",
   "metadata": {},
   "source": [
    "Again, what do you notice?"
   ]
  },
  {
   "cell_type": "markdown",
   "id": "7b02abf9-5152-4821-82d7-f8f6af66dbd6",
   "metadata": {},
   "source": [
    "## Bankfull Flow\n",
    "\n",
    "In sediment transport we often assume that the river geometry and sediment properties are being set by a certain sort of average \"formative\" discharge that we take to be approximately equivalent to the so-called \"bankfull flow.\" Bankfull flow is the discharge condition for which water, on average, is at the top of the banks. There are different ways to estimate the bankfull flow condition, but one common way to estimate it is to relate it to the 1.5 or 2-year return period flow. Using this definition, what discharge would you take the bankfull flow condition?"
   ]
  },
  {
   "cell_type": "code",
   "execution_count": 33,
   "id": "10b5b65b-48b4-47c1-9248-acb720888379",
   "metadata": {},
   "outputs": [
    {
     "name": "stdout",
     "output_type": "stream",
     "text": [
      "the 1.5 year flow based on the measurements is: 32066.40625\n"
     ]
    }
   ],
   "source": [
    "Q1_5yr = np.interp(1.5,R[::-1],Q_sorted[::-1])\n",
    "print('the 1.5 year flow based on the measurements is:', Q1_5yr)"
   ]
  },
  {
   "cell_type": "markdown",
   "id": "c85f4d17-19c9-4817-8278-ef0ce5e5a3f0",
   "metadata": {},
   "source": [
    "Given this the 1.5 and 2 year flows, we might expect the $Q_{\\text{bankfull}}$ to be between 30,000 to 40,000 cfs."
   ]
  },
  {
   "cell_type": "code",
   "execution_count": null,
   "id": "4db11470-0c7c-42dc-aa96-11cd280ed3d9",
   "metadata": {},
   "outputs": [],
   "source": []
  }
 ],
 "metadata": {
  "kernelspec": {
   "display_name": "Python 3 (ipykernel)",
   "language": "python",
   "name": "python3"
  },
  "language_info": {
   "codemirror_mode": {
    "name": "ipython",
    "version": 3
   },
   "file_extension": ".py",
   "mimetype": "text/x-python",
   "name": "python",
   "nbconvert_exporter": "python",
   "pygments_lexer": "ipython3",
   "version": "3.8.13"
  }
 },
 "nbformat": 4,
 "nbformat_minor": 5
}
